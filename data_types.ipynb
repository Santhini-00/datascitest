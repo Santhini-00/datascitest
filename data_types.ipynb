{
 "cells": [
  {
   "cell_type": "code",
   "execution_count": 3,
   "metadata": {},
   "outputs": [],
   "source": [
    "import pandas as pd\n",
    "import numpy as np\n",
    "import matplotlib as plt"
   ]
  },
  {
   "cell_type": "markdown",
   "metadata": {},
   "source": [
    "# Math Operations\n",
    "You can use Python to do simple to complex arithmetic"
   ]
  },
  {
   "cell_type": "code",
   "execution_count": null,
   "metadata": {},
   "outputs": [],
   "source": [
    "#Addition\n",
    "5 + 5\n",
    "#Subtraction\n",
    "5 - 4\n",
    "#Multiplication\n",
    "3 * 6\n",
    "#Division\n",
    "4 / 2\n",
    "#Power\n",
    "4 ** 2\n",
    "#Combinations\n",
    "(4 + 6)/2\n",
    "(3 * 5)**2"
   ]
  },
  {
   "cell_type": "markdown",
   "metadata": {},
   "source": [
    "# Variable Types\n",
    "**1. Integer <br>**\n",
    "Stores any whole number (i.e. 1, 200, 30567,etc.)\n",
    "\n",
    "**2. Real (float) <br>**\n",
    "Stores decimals (1.0, 200.24, 30.567)\n",
    "\n",
    "**3. String** <br>\n",
    "Stores text (a collection of characters including letters, spaces, punctuation, numbers)\n",
    "\n",
    "**3. Boolean** <br>\n",
    "Stores logic that can take on two values: True or False\n"
   ]
  },
  {
   "cell_type": "markdown",
   "metadata": {},
   "source": [
    "## Integer\n",
    "Stores any whole number (i.e. 1, 200, 30567,etc.)"
   ]
  },
  {
   "cell_type": "code",
   "execution_count": 16,
   "metadata": {},
   "outputs": [
    {
     "data": {
      "text/plain": [
       "5.0"
      ]
     },
     "execution_count": 16,
     "metadata": {},
     "output_type": "execute_result"
    }
   ],
   "source": [
    "#creating a variable named \"x\" and storing within it the number 5\n",
    "x = 5\n",
    "#simple algebra\n",
    "x + 5\n",
    "x ** 2\n",
    "(x + 5)/2"
   ]
  },
  {
   "cell_type": "markdown",
   "metadata": {},
   "source": [
    "## Real (float)\n",
    "Stores decimals (1.0, 200.24, 30.567)"
   ]
  },
  {
   "cell_type": "code",
   "execution_count": 18,
   "metadata": {},
   "outputs": [
    {
     "data": {
      "text/plain": [
       "9.5"
      ]
     },
     "execution_count": 18,
     "metadata": {},
     "output_type": "execute_result"
    }
   ],
   "source": [
    "#storing a float value\n",
    "flt = 4.5\n",
    "#simple algebra\n",
    "flt + 5\n",
    "#add variables\n",
    "x + flt\n"
   ]
  },
  {
   "cell_type": "markdown",
   "metadata": {},
   "source": [
    "## String\n",
    "Stores text (a collection of characters including letters, spaces, punctuation, numbers)"
   ]
  },
  {
   "cell_type": "code",
   "execution_count": null,
   "metadata": {},
   "outputs": [],
   "source": [
    "#storing a string value\n",
    "y = \"hello world!\"\n",
    "#how many characters in this string? (note: how it also counts the space & punctuation)\n",
    "len(y)\n",
    "#indexing the string (note: python indexing starts at 0)\n",
    "y[1]\n",
    "#get multiple characters and store in new variable\n",
    "y[1:3]\n",
    "y_2 = y[1:3]\n",
    "\n",
    "#goes through (iterates over) each character in the string using a \"for loop\"\n",
    "for i in y:\n",
    "    print(i)"
   ]
  },
  {
   "cell_type": "code",
   "execution_count": null,
   "metadata": {},
   "outputs": [],
   "source": [
    "%matplotlib inline\n",
    "from IPython.display import Image\n",
    "Image('D:/deepa_laptop2/Documents/git/datasci_training/giphy.gif')\n",
    "#![](file:///d%3A/deepa_laptop2/Documents/git/datasci_training/intro_python/Screenshot%202022-06-30%20004151.png)"
   ]
  },
  {
   "cell_type": "markdown",
   "metadata": {},
   "source": [
    "## Boolean\n",
    "Stores logic that can take on two values: True or False\n",
    "\n",
    "![](./giphy.gif)\n"
   ]
  },
  {
   "cell_type": "markdown",
   "metadata": {},
   "source": [
    "# Basic Data Structures\n",
    "What is a data structure?\n",
    "* A way to organize and store data on a computer\n",
    "* Kind of like how we use closets, dressers, shelves to help organize our clothing, we use different data structures to store and organize data depending on how we are planning to use them\n",
    "\n",
    "## Data Structures (Basic)\n",
    "The data structures listed below is not a complete list but a very basic one to help us get started**\n",
    "\n",
    "**1. List <br>**\n",
    "**2. Tuple <br>**\n",
    "**3. Set <br>**\n",
    "**4. Dictionary <br>**"
   ]
  }
 ],
 "metadata": {
  "kernelspec": {
   "display_name": "Python 3.10.5 64-bit",
   "language": "python",
   "name": "python3"
  },
  "language_info": {
   "codemirror_mode": {
    "name": "ipython",
    "version": 3
   },
   "file_extension": ".py",
   "mimetype": "text/x-python",
   "name": "python",
   "nbconvert_exporter": "python",
   "pygments_lexer": "ipython3",
   "version": "3.10.5"
  },
  "orig_nbformat": 4,
  "vscode": {
   "interpreter": {
    "hash": "07d5a32a57a9b95007a05b5fb942622f50d5b6ab19394e9088a86b13b6e5a95b"
   }
  }
 },
 "nbformat": 4,
 "nbformat_minor": 2
}
